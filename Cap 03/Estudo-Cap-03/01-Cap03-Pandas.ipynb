{
 "cells": [
  {
   "cell_type": "code",
   "execution_count": 1,
   "metadata": {
    "pycharm": {
     "name": "#%%\n"
    }
   },
   "outputs": [
    {
     "name": "stdout",
     "output_type": "stream",
     "text": [
      "Versão da Linguagem Python Usada Neste Jupyter Notebook:  3.10.4\n"
     ]
    }
   ],
   "source": [
    "#Vesão do python\n",
    "from platform import python_version\n",
    "print('Versão da Linguagem Python Usada Neste Jupyter Notebook: ', python_version())"
   ]
  },
  {
   "cell_type": "code",
   "execution_count": 2,
   "metadata": {
    "pycharm": {
     "name": "#%%\n"
    }
   },
   "outputs": [],
   "source": [
    "# Para atualizar um pacote, execute o comando abaixo no terminal ou prompt de comando:\n",
    "# pip install -U nome_pacote\n",
    "\n",
    "# Para instalar a versão exata de um pacote, execute o comando abaixo no terminal ou prompt de comando:\n",
    "#!pip install nome_pacote==versão_desejada\n",
    "\n",
    "# Depois de instalar ou atualizar o pacote, reinicie o jupyter notebook.\n",
    "\n",
    "# Instala o pacote watermark.\n",
    "# Esse pacote é usado para gravar as versões de outros pacotes usados neste jupyter notebook.\n",
    "#!pip install -q -U watermark"
   ]
  },
  {
   "cell_type": "code",
   "execution_count": 3,
   "metadata": {
    "pycharm": {
     "name": "#%%\n"
    }
   },
   "outputs": [],
   "source": [
    "# Importando o módulo Pandas\n",
    "import pandas as pd"
   ]
  },
  {
   "cell_type": "code",
   "execution_count": 4,
   "metadata": {
    "pycharm": {
     "name": "#%%\n"
    }
   },
   "outputs": [
    {
     "name": "stdout",
     "output_type": "stream",
     "text": [
      "Author: John Costa\n",
      "\n",
      "pandas: 1.5.0\n",
      "\n"
     ]
    }
   ],
   "source": [
    "# Versões dos pacotes usados neste jupyter notebook\n",
    "%reload_ext watermark\n",
    "%watermark -a \"John Costa\" --iversions"
   ]
  },
  {
   "cell_type": "markdown",
   "metadata": {
    "pycharm": {
     "name": "#%% md\n"
    }
   },
   "source": [
    "# Pandas - Dataframes, Métodos e Atributos"
   ]
  },
  {
   "cell_type": "code",
   "execution_count": 5,
   "metadata": {
    "pycharm": {
     "name": "#%%\n"
    }
   },
   "outputs": [],
   "source": [
    "# Carrega um arquivo do disco e armazena como um dataframe\n",
    "df = pd.read_csv('dados/dataset1.csv')"
   ]
  },
  {
   "cell_type": "code",
   "execution_count": 6,
   "metadata": {
    "pycharm": {
     "name": "#%%\n"
    }
   },
   "outputs": [
    {
     "data": {
      "text/plain": "pandas.core.frame.DataFrame"
     },
     "execution_count": 6,
     "metadata": {},
     "output_type": "execute_result"
    }
   ],
   "source": [
    "# Tipo do objeto\n",
    "type(df)"
   ]
  },
  {
   "cell_type": "code",
   "execution_count": 7,
   "metadata": {
    "pycharm": {
     "name": "#%%\n"
    }
   },
   "outputs": [
    {
     "data": {
      "text/plain": "(615, 6)"
     },
     "execution_count": 7,
     "metadata": {},
     "output_type": "execute_result"
    }
   ],
   "source": [
    "# Atributo shape\n",
    "df.shape"
   ]
  },
  {
   "cell_type": "code",
   "execution_count": 8,
   "metadata": {
    "pycharm": {
     "name": "#%%\n"
    }
   },
   "outputs": [
    {
     "data": {
      "text/plain": "3690"
     },
     "execution_count": 8,
     "metadata": {},
     "output_type": "execute_result"
    }
   ],
   "source": [
    "# Atributo size (total de registros considerando cada coluna)\n",
    "df.size"
   ]
  },
  {
   "cell_type": "code",
   "execution_count": 9,
   "metadata": {
    "pycharm": {
     "name": "#%%\n"
    }
   },
   "outputs": [
    {
     "data": {
      "text/plain": "  club       last_name first_name position  base_salary  \\\n0  ATL         Almiron     Miguel        M    1912500.0   \n1  ATL         Ambrose      Mikey        D      65625.0   \n2  ATL            Asad      Yamil        M     150000.0   \n3  ATL           Bloom       Mark        D      99225.0   \n4  ATL        Carleton     Andrew        F      65000.0   \n5  ATL         Carmona     Carlos        M     675000.0   \n6  ATL           Garza       Greg        D     150000.0   \n7  ATL  Gonzalez Pirez    Leandro        D     250008.0   \n8  ATL          Goslin      Chris        M      70000.0   \n9  ATL         Gressel     Julian      NaN      75000.0   \n\n   guaranteed_compensation  \n0               2297000.00  \n1                 65625.00  \n2                150000.00  \n3                106573.89  \n4                 77400.00  \n5                725000.00  \n6                150000.00  \n7                285008.00  \n8                 74000.00  \n9                 93750.00  ",
      "text/html": "<div>\n<style scoped>\n    .dataframe tbody tr th:only-of-type {\n        vertical-align: middle;\n    }\n\n    .dataframe tbody tr th {\n        vertical-align: top;\n    }\n\n    .dataframe thead th {\n        text-align: right;\n    }\n</style>\n<table border=\"1\" class=\"dataframe\">\n  <thead>\n    <tr style=\"text-align: right;\">\n      <th></th>\n      <th>club</th>\n      <th>last_name</th>\n      <th>first_name</th>\n      <th>position</th>\n      <th>base_salary</th>\n      <th>guaranteed_compensation</th>\n    </tr>\n  </thead>\n  <tbody>\n    <tr>\n      <th>0</th>\n      <td>ATL</td>\n      <td>Almiron</td>\n      <td>Miguel</td>\n      <td>M</td>\n      <td>1912500.0</td>\n      <td>2297000.00</td>\n    </tr>\n    <tr>\n      <th>1</th>\n      <td>ATL</td>\n      <td>Ambrose</td>\n      <td>Mikey</td>\n      <td>D</td>\n      <td>65625.0</td>\n      <td>65625.00</td>\n    </tr>\n    <tr>\n      <th>2</th>\n      <td>ATL</td>\n      <td>Asad</td>\n      <td>Yamil</td>\n      <td>M</td>\n      <td>150000.0</td>\n      <td>150000.00</td>\n    </tr>\n    <tr>\n      <th>3</th>\n      <td>ATL</td>\n      <td>Bloom</td>\n      <td>Mark</td>\n      <td>D</td>\n      <td>99225.0</td>\n      <td>106573.89</td>\n    </tr>\n    <tr>\n      <th>4</th>\n      <td>ATL</td>\n      <td>Carleton</td>\n      <td>Andrew</td>\n      <td>F</td>\n      <td>65000.0</td>\n      <td>77400.00</td>\n    </tr>\n    <tr>\n      <th>5</th>\n      <td>ATL</td>\n      <td>Carmona</td>\n      <td>Carlos</td>\n      <td>M</td>\n      <td>675000.0</td>\n      <td>725000.00</td>\n    </tr>\n    <tr>\n      <th>6</th>\n      <td>ATL</td>\n      <td>Garza</td>\n      <td>Greg</td>\n      <td>D</td>\n      <td>150000.0</td>\n      <td>150000.00</td>\n    </tr>\n    <tr>\n      <th>7</th>\n      <td>ATL</td>\n      <td>Gonzalez Pirez</td>\n      <td>Leandro</td>\n      <td>D</td>\n      <td>250008.0</td>\n      <td>285008.00</td>\n    </tr>\n    <tr>\n      <th>8</th>\n      <td>ATL</td>\n      <td>Goslin</td>\n      <td>Chris</td>\n      <td>M</td>\n      <td>70000.0</td>\n      <td>74000.00</td>\n    </tr>\n    <tr>\n      <th>9</th>\n      <td>ATL</td>\n      <td>Gressel</td>\n      <td>Julian</td>\n      <td>NaN</td>\n      <td>75000.0</td>\n      <td>93750.00</td>\n    </tr>\n  </tbody>\n</table>\n</div>"
     },
     "execution_count": 9,
     "metadata": {},
     "output_type": "execute_result"
    }
   ],
   "source": [
    "# Método head()\n",
    "df.head(10)"
   ]
  },
  {
   "cell_type": "code",
   "execution_count": 10,
   "metadata": {
    "pycharm": {
     "name": "#%%\n"
    }
   },
   "outputs": [
    {
     "data": {
      "text/plain": "    club last_name first_name position  base_salary  guaranteed_compensation\n605  VAN   Rosales      Mauro        M      65004.0                 65004.00\n606  VAN    Seiler       Cole        D      54075.0                 54075.00\n607  VAN      Shea       Brek      M-D     625000.0                670000.00\n608  VAN    Tchani       Tony        M     275000.0                308333.33\n609  VAN   Techera   Cristian        M     352000.0                377000.00\n610  VAN   Teibert    Russell        M     126500.0                194000.00\n611  VAN  Tornaghi      Paolo       GK      80000.0                 80000.00\n612  VAN    Waston    Kendall        D     350000.0                368125.00\n613  NaN       NaN        NaN      NaN          NaN                      NaN\n614  VAN  Williams    Sheanon        D     175000.0                184000.00",
      "text/html": "<div>\n<style scoped>\n    .dataframe tbody tr th:only-of-type {\n        vertical-align: middle;\n    }\n\n    .dataframe tbody tr th {\n        vertical-align: top;\n    }\n\n    .dataframe thead th {\n        text-align: right;\n    }\n</style>\n<table border=\"1\" class=\"dataframe\">\n  <thead>\n    <tr style=\"text-align: right;\">\n      <th></th>\n      <th>club</th>\n      <th>last_name</th>\n      <th>first_name</th>\n      <th>position</th>\n      <th>base_salary</th>\n      <th>guaranteed_compensation</th>\n    </tr>\n  </thead>\n  <tbody>\n    <tr>\n      <th>605</th>\n      <td>VAN</td>\n      <td>Rosales</td>\n      <td>Mauro</td>\n      <td>M</td>\n      <td>65004.0</td>\n      <td>65004.00</td>\n    </tr>\n    <tr>\n      <th>606</th>\n      <td>VAN</td>\n      <td>Seiler</td>\n      <td>Cole</td>\n      <td>D</td>\n      <td>54075.0</td>\n      <td>54075.00</td>\n    </tr>\n    <tr>\n      <th>607</th>\n      <td>VAN</td>\n      <td>Shea</td>\n      <td>Brek</td>\n      <td>M-D</td>\n      <td>625000.0</td>\n      <td>670000.00</td>\n    </tr>\n    <tr>\n      <th>608</th>\n      <td>VAN</td>\n      <td>Tchani</td>\n      <td>Tony</td>\n      <td>M</td>\n      <td>275000.0</td>\n      <td>308333.33</td>\n    </tr>\n    <tr>\n      <th>609</th>\n      <td>VAN</td>\n      <td>Techera</td>\n      <td>Cristian</td>\n      <td>M</td>\n      <td>352000.0</td>\n      <td>377000.00</td>\n    </tr>\n    <tr>\n      <th>610</th>\n      <td>VAN</td>\n      <td>Teibert</td>\n      <td>Russell</td>\n      <td>M</td>\n      <td>126500.0</td>\n      <td>194000.00</td>\n    </tr>\n    <tr>\n      <th>611</th>\n      <td>VAN</td>\n      <td>Tornaghi</td>\n      <td>Paolo</td>\n      <td>GK</td>\n      <td>80000.0</td>\n      <td>80000.00</td>\n    </tr>\n    <tr>\n      <th>612</th>\n      <td>VAN</td>\n      <td>Waston</td>\n      <td>Kendall</td>\n      <td>D</td>\n      <td>350000.0</td>\n      <td>368125.00</td>\n    </tr>\n    <tr>\n      <th>613</th>\n      <td>NaN</td>\n      <td>NaN</td>\n      <td>NaN</td>\n      <td>NaN</td>\n      <td>NaN</td>\n      <td>NaN</td>\n    </tr>\n    <tr>\n      <th>614</th>\n      <td>VAN</td>\n      <td>Williams</td>\n      <td>Sheanon</td>\n      <td>D</td>\n      <td>175000.0</td>\n      <td>184000.00</td>\n    </tr>\n  </tbody>\n</table>\n</div>"
     },
     "execution_count": 10,
     "metadata": {},
     "output_type": "execute_result"
    }
   ],
   "source": [
    "# Método tail()\n",
    "df.tail(10)"
   ]
  },
  {
   "cell_type": "code",
   "execution_count": 11,
   "metadata": {
    "pycharm": {
     "name": "#%%\n"
    }
   },
   "outputs": [
    {
     "name": "stdout",
     "output_type": "stream",
     "text": [
      "<class 'pandas.core.frame.DataFrame'>\n",
      "RangeIndex: 615 entries, 0 to 614\n",
      "Data columns (total 6 columns):\n",
      " #   Column                   Non-Null Count  Dtype  \n",
      "---  ------                   --------------  -----  \n",
      " 0   club                     614 non-null    object \n",
      " 1   last_name                614 non-null    object \n",
      " 2   first_name               610 non-null    object \n",
      " 3   position                 604 non-null    object \n",
      " 4   base_salary              614 non-null    float64\n",
      " 5   guaranteed_compensation  614 non-null    float64\n",
      "dtypes: float64(2), object(4)\n",
      "memory usage: 29.0+ KB\n"
     ]
    }
   ],
   "source": [
    "# Método info()\n",
    "df.info()"
   ]
  },
  {
   "cell_type": "code",
   "execution_count": 12,
   "metadata": {
    "pycharm": {
     "name": "#%%\n"
    }
   },
   "outputs": [
    {
     "data": {
      "text/plain": "        base_salary  guaranteed_compensation\ncount  6.140000e+02             6.140000e+02\nmean   2.971730e+05             3.263752e+05\nstd    6.725839e+05             7.491217e+05\nmin    5.299992e+04             5.299992e+04\n25%    6.563340e+04             7.003035e+04\n50%    1.250000e+05             1.350020e+05\n75%    2.550000e+05             2.798750e+05\nmax    6.660000e+06             7.167500e+06",
      "text/html": "<div>\n<style scoped>\n    .dataframe tbody tr th:only-of-type {\n        vertical-align: middle;\n    }\n\n    .dataframe tbody tr th {\n        vertical-align: top;\n    }\n\n    .dataframe thead th {\n        text-align: right;\n    }\n</style>\n<table border=\"1\" class=\"dataframe\">\n  <thead>\n    <tr style=\"text-align: right;\">\n      <th></th>\n      <th>base_salary</th>\n      <th>guaranteed_compensation</th>\n    </tr>\n  </thead>\n  <tbody>\n    <tr>\n      <th>count</th>\n      <td>6.140000e+02</td>\n      <td>6.140000e+02</td>\n    </tr>\n    <tr>\n      <th>mean</th>\n      <td>2.971730e+05</td>\n      <td>3.263752e+05</td>\n    </tr>\n    <tr>\n      <th>std</th>\n      <td>6.725839e+05</td>\n      <td>7.491217e+05</td>\n    </tr>\n    <tr>\n      <th>min</th>\n      <td>5.299992e+04</td>\n      <td>5.299992e+04</td>\n    </tr>\n    <tr>\n      <th>25%</th>\n      <td>6.563340e+04</td>\n      <td>7.003035e+04</td>\n    </tr>\n    <tr>\n      <th>50%</th>\n      <td>1.250000e+05</td>\n      <td>1.350020e+05</td>\n    </tr>\n    <tr>\n      <th>75%</th>\n      <td>2.550000e+05</td>\n      <td>2.798750e+05</td>\n    </tr>\n    <tr>\n      <th>max</th>\n      <td>6.660000e+06</td>\n      <td>7.167500e+06</td>\n    </tr>\n  </tbody>\n</table>\n</div>"
     },
     "execution_count": 12,
     "metadata": {},
     "output_type": "execute_result"
    }
   ],
   "source": [
    "# Método describe()\n",
    "df.describe()"
   ]
  },
  {
   "cell_type": "code",
   "execution_count": 13,
   "metadata": {
    "pycharm": {
     "name": "#%%\n"
    }
   },
   "outputs": [
    {
     "data": {
      "text/plain": "count     614\nunique     23\ntop       VAN\nfreq       32\nName: club, dtype: object"
     },
     "execution_count": 13,
     "metadata": {},
     "output_type": "execute_result"
    }
   ],
   "source": [
    "# método describe() para uma coluna\n",
    "df.club.describe()"
   ]
  },
  {
   "cell_type": "code",
   "execution_count": 14,
   "metadata": {
    "pycharm": {
     "name": "#%%\n"
    }
   },
   "outputs": [
    {
     "data": {
      "text/plain": "club  last_name  first_name  position  base_salary  guaranteed_compensation\nATL   Almiron    Miguel      M         1912500.0    2297000.0                  1\nORL   Perez      Matias      F         260004.0     260004.0                   1\n      Redding    Tommy       D         110000.0     117500.0                   1\n      Rivas      Carlos      M         375000.0     375000.0                   1\n      Rocha      Tony        M         65620.8      65620.8                    1\n                                                                              ..\nKC    Iwasa      Cameron     F         53004.0      53004.0                    1\n      Juliao     Igor        D         100008.0     115008.0                   1\n      Medranda   Jimmy       D         130008.0     130008.0                   1\n      Melia      Tim         GK        165000.0     167500.0                   1\nVAN   de Jong    Marcel      D-M       140000.0     140000.0                   1\nLength: 600, dtype: int64"
     },
     "execution_count": 14,
     "metadata": {},
     "output_type": "execute_result"
    }
   ],
   "source": [
    "# Método value_counts()\n",
    "df.value_counts()"
   ]
  },
  {
   "cell_type": "code",
   "execution_count": 15,
   "metadata": {
    "pycharm": {
     "name": "#%%\n"
    }
   },
   "outputs": [
    {
     "data": {
      "text/plain": "object     4\nfloat64    2\ndtype: int64"
     },
     "execution_count": 15,
     "metadata": {},
     "output_type": "execute_result"
    }
   ],
   "source": [
    "# método value_counts() para cada tipo de dado\n",
    "df.dtypes.value_counts()"
   ]
  },
  {
   "cell_type": "code",
   "execution_count": 16,
   "metadata": {
    "pycharm": {
     "name": "#%%\n"
    }
   },
   "outputs": [
    {
     "data": {
      "text/plain": "VAN      32\nPHI      31\nATL      31\nCLB      30\nORL      30\nDAL      29\nSJ       29\nNYCFC    28\nHOU      28\nNYRB     28\nTOR      27\nRSL      27\nPOR      27\nMTL      27\nCHI      27\nMNUFC    27\nLA       27\nDC       27\nKC       26\nCOL      26\nSEA      25\nNE       23\nLAFC      2\nName: club, dtype: int64"
     },
     "execution_count": 16,
     "metadata": {},
     "output_type": "execute_result"
    }
   ],
   "source": [
    "# método value_counts() para uma coluna\n",
    "df.club.value_counts()"
   ]
  },
  {
   "cell_type": "code",
   "execution_count": 17,
   "metadata": {
    "pycharm": {
     "name": "#%%\n"
    }
   },
   "outputs": [
    {
     "data": {
      "text/plain": "0      ATL\n1      ATL\n2      ATL\n3      ATL\n4      ATL\n      ... \n610    VAN\n611    VAN\n612    VAN\n613    NaN\n614    VAN\nName: club, Length: 615, dtype: object"
     },
     "execution_count": 17,
     "metadata": {},
     "output_type": "execute_result"
    }
   ],
   "source": [
    "# Extrai o s dados de uma coluna\n",
    "df.club"
   ]
  },
  {
   "cell_type": "code",
   "execution_count": 18,
   "metadata": {
    "pycharm": {
     "name": "#%%\n"
    }
   },
   "outputs": [
    {
     "data": {
      "text/plain": "0      ATL\n1      ATL\n2      ATL\n3      ATL\n4      ATL\n      ... \n610    VAN\n611    VAN\n612    VAN\n613    NaN\n614    VAN\nName: club, Length: 615, dtype: object"
     },
     "execution_count": 18,
     "metadata": {},
     "output_type": "execute_result"
    }
   ],
   "source": [
    "# Extrai os dados de uma coluna\n",
    "df['club']"
   ]
  },
  {
   "cell_type": "code",
   "execution_count": 19,
   "metadata": {
    "pycharm": {
     "name": "#%%\n"
    }
   },
   "outputs": [
    {
     "data": {
      "text/plain": "0    ATL\n1    ATL\n2    ATL\n3    ATL\n4    ATL\n5    ATL\n6    ATL\n7    ATL\n8    ATL\n9    ATL\nName: club, dtype: object"
     },
     "execution_count": 19,
     "metadata": {},
     "output_type": "execute_result"
    }
   ],
   "source": [
    "# Visualiza os dados extraídos de uma coluna\n",
    "df['club'].head(10)"
   ]
  },
  {
   "cell_type": "code",
   "execution_count": 20,
   "metadata": {
    "pycharm": {
     "name": "#%%\n"
    }
   },
   "outputs": [
    {
     "data": {
      "text/plain": "dtype('O')"
     },
     "execution_count": 20,
     "metadata": {},
     "output_type": "execute_result"
    }
   ],
   "source": [
    "# Retorna o tipo do dado\n",
    "df['club'].dtypes"
   ]
  },
  {
   "cell_type": "code",
   "execution_count": 21,
   "metadata": {
    "pycharm": {
     "name": "#%%\n"
    }
   },
   "outputs": [
    {
     "data": {
      "text/plain": "pandas.core.series.Series"
     },
     "execution_count": 21,
     "metadata": {},
     "output_type": "execute_result"
    }
   ],
   "source": [
    "# Tipo de dados em uma coluna\n",
    "type(df['club'])"
   ]
  },
  {
   "cell_type": "code",
   "execution_count": 22,
   "metadata": {
    "pycharm": {
     "name": "#%%\n"
    }
   },
   "outputs": [],
   "source": [
    "# Podemos usar a função DataFrame() para criar dataframes pandas a partir de estruturas de dados Python\n",
    "dados = [['a',1,1.0], ['b',2,2.0],['c',3,3.0]]\n",
    "df_teste = pd.DataFrame(dados)"
   ]
  },
  {
   "cell_type": "code",
   "execution_count": 23,
   "metadata": {
    "pycharm": {
     "name": "#%%\n"
    }
   },
   "outputs": [
    {
     "data": {
      "text/plain": "   0  1    2\n0  a  1  1.0\n1  b  2  2.0\n2  c  3  3.0",
      "text/html": "<div>\n<style scoped>\n    .dataframe tbody tr th:only-of-type {\n        vertical-align: middle;\n    }\n\n    .dataframe tbody tr th {\n        vertical-align: top;\n    }\n\n    .dataframe thead th {\n        text-align: right;\n    }\n</style>\n<table border=\"1\" class=\"dataframe\">\n  <thead>\n    <tr style=\"text-align: right;\">\n      <th></th>\n      <th>0</th>\n      <th>1</th>\n      <th>2</th>\n    </tr>\n  </thead>\n  <tbody>\n    <tr>\n      <th>0</th>\n      <td>a</td>\n      <td>1</td>\n      <td>1.0</td>\n    </tr>\n    <tr>\n      <th>1</th>\n      <td>b</td>\n      <td>2</td>\n      <td>2.0</td>\n    </tr>\n    <tr>\n      <th>2</th>\n      <td>c</td>\n      <td>3</td>\n      <td>3.0</td>\n    </tr>\n  </tbody>\n</table>\n</div>"
     },
     "execution_count": 23,
     "metadata": {},
     "output_type": "execute_result"
    }
   ],
   "source": [
    "df_teste.head()"
   ]
  },
  {
   "cell_type": "code",
   "execution_count": 23,
   "metadata": {
    "pycharm": {
     "name": "#%%\n"
    }
   },
   "outputs": [],
   "source": []
  }
 ],
 "metadata": {
  "kernelspec": {
   "display_name": "Python 3.10.4 ('Big Data Real-Time Analytics com Python e Spark')",
   "language": "python",
   "name": "python3"
  },
  "language_info": {
   "codemirror_mode": {
    "name": "ipython",
    "version": 3
   },
   "file_extension": ".py",
   "mimetype": "text/x-python",
   "name": "python",
   "nbconvert_exporter": "python",
   "pygments_lexer": "ipython3",
   "version": "3.10.4"
  },
  "orig_nbformat": 4,
  "vscode": {
   "interpreter": {
    "hash": "c52559f69ef084ffb0f9b9cb4f316218c8235f55330b68836a48a46c7e9807b2"
   }
  }
 },
 "nbformat": 4,
 "nbformat_minor": 2
}